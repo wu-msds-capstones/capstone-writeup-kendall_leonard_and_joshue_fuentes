{
 "cells": [
  {
   "cell_type": "markdown",
   "metadata": {},
   "source": [
    "#"
   ],
   "id": "4e8ee45f-b08a-496b-bbaa-6c77a48f89ed"
  }
 ],
 "nbformat": 4,
 "nbformat_minor": 5,
 "metadata": {}
}
